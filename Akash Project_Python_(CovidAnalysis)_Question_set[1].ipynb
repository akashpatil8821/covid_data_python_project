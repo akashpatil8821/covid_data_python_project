{
 "cells": [
  {
   "cell_type": "markdown",
   "id": "8db0e14f",
   "metadata": {},
   "source": [
    "# 1.Understanding the Data:"
   ]
  },
  {
   "cell_type": "markdown",
   "id": "a316f235",
   "metadata": {},
   "source": [
    "Import necessary libraries (e.g., pandas, matplotlib, seaborn).<br>\n",
    "Load the COVID-19 dataset.<br>\n",
    "Display basic information about the dataset (e.g., data types, missing values).<br>"
   ]
  },
  {
   "cell_type": "code",
   "execution_count": 1,
   "id": "09fd4d1b",
   "metadata": {
    "scrolled": true
   },
   "outputs": [],
   "source": [
    "# load required libraries/modules\n",
    "\n",
    "import pandas as pd\n",
    "import matplotlib.pyplot as plt\n",
    "import seaborn as sns\n",
    "\n",
    "\n"
   ]
  },
  {
   "cell_type": "code",
   "execution_count": 3,
   "id": "0fc0a3f1",
   "metadata": {},
   "outputs": [
    {
     "data": {
      "text/html": [
       "<div>\n",
       "<style scoped>\n",
       "    .dataframe tbody tr th:only-of-type {\n",
       "        vertical-align: middle;\n",
       "    }\n",
       "\n",
       "    .dataframe tbody tr th {\n",
       "        vertical-align: top;\n",
       "    }\n",
       "\n",
       "    .dataframe thead th {\n",
       "        text-align: right;\n",
       "    }\n",
       "</style>\n",
       "<table border=\"1\" class=\"dataframe\">\n",
       "  <thead>\n",
       "    <tr style=\"text-align: right;\">\n",
       "      <th></th>\n",
       "      <th>SNo</th>\n",
       "      <th>ObservationDate</th>\n",
       "      <th>Province/State</th>\n",
       "      <th>Country/Region</th>\n",
       "      <th>Last Update</th>\n",
       "      <th>Confirmed</th>\n",
       "      <th>Deaths</th>\n",
       "      <th>Recovered</th>\n",
       "    </tr>\n",
       "  </thead>\n",
       "  <tbody>\n",
       "    <tr>\n",
       "      <th>0</th>\n",
       "      <td>1</td>\n",
       "      <td>01/22/2020</td>\n",
       "      <td>Anhui</td>\n",
       "      <td>Mainland China</td>\n",
       "      <td>1/22/2020 17:00</td>\n",
       "      <td>1.0</td>\n",
       "      <td>0.0</td>\n",
       "      <td>0.0</td>\n",
       "    </tr>\n",
       "    <tr>\n",
       "      <th>1</th>\n",
       "      <td>2</td>\n",
       "      <td>01/22/2020</td>\n",
       "      <td>Beijing</td>\n",
       "      <td>Mainland China</td>\n",
       "      <td>1/22/2020 17:00</td>\n",
       "      <td>14.0</td>\n",
       "      <td>0.0</td>\n",
       "      <td>0.0</td>\n",
       "    </tr>\n",
       "    <tr>\n",
       "      <th>2</th>\n",
       "      <td>3</td>\n",
       "      <td>01/22/2020</td>\n",
       "      <td>Chongqing</td>\n",
       "      <td>Mainland China</td>\n",
       "      <td>1/22/2020 17:00</td>\n",
       "      <td>6.0</td>\n",
       "      <td>0.0</td>\n",
       "      <td>0.0</td>\n",
       "    </tr>\n",
       "    <tr>\n",
       "      <th>3</th>\n",
       "      <td>4</td>\n",
       "      <td>01/22/2020</td>\n",
       "      <td>Fujian</td>\n",
       "      <td>Mainland China</td>\n",
       "      <td>1/22/2020 17:00</td>\n",
       "      <td>1.0</td>\n",
       "      <td>0.0</td>\n",
       "      <td>0.0</td>\n",
       "    </tr>\n",
       "    <tr>\n",
       "      <th>4</th>\n",
       "      <td>5</td>\n",
       "      <td>01/22/2020</td>\n",
       "      <td>Gansu</td>\n",
       "      <td>Mainland China</td>\n",
       "      <td>1/22/2020 17:00</td>\n",
       "      <td>0.0</td>\n",
       "      <td>0.0</td>\n",
       "      <td>0.0</td>\n",
       "    </tr>\n",
       "    <tr>\n",
       "      <th>...</th>\n",
       "      <td>...</td>\n",
       "      <td>...</td>\n",
       "      <td>...</td>\n",
       "      <td>...</td>\n",
       "      <td>...</td>\n",
       "      <td>...</td>\n",
       "      <td>...</td>\n",
       "      <td>...</td>\n",
       "    </tr>\n",
       "    <tr>\n",
       "      <th>306424</th>\n",
       "      <td>306425</td>\n",
       "      <td>05/29/2021</td>\n",
       "      <td>Zaporizhia Oblast</td>\n",
       "      <td>Ukraine</td>\n",
       "      <td>2021-05-30 04:20:55</td>\n",
       "      <td>102641.0</td>\n",
       "      <td>2335.0</td>\n",
       "      <td>95289.0</td>\n",
       "    </tr>\n",
       "    <tr>\n",
       "      <th>306425</th>\n",
       "      <td>306426</td>\n",
       "      <td>05/29/2021</td>\n",
       "      <td>Zeeland</td>\n",
       "      <td>Netherlands</td>\n",
       "      <td>2021-05-30 04:20:55</td>\n",
       "      <td>29147.0</td>\n",
       "      <td>245.0</td>\n",
       "      <td>0.0</td>\n",
       "    </tr>\n",
       "    <tr>\n",
       "      <th>306426</th>\n",
       "      <td>306427</td>\n",
       "      <td>05/29/2021</td>\n",
       "      <td>Zhejiang</td>\n",
       "      <td>Mainland China</td>\n",
       "      <td>2021-05-30 04:20:55</td>\n",
       "      <td>1364.0</td>\n",
       "      <td>1.0</td>\n",
       "      <td>1324.0</td>\n",
       "    </tr>\n",
       "    <tr>\n",
       "      <th>306427</th>\n",
       "      <td>306428</td>\n",
       "      <td>05/29/2021</td>\n",
       "      <td>Zhytomyr Oblast</td>\n",
       "      <td>Ukraine</td>\n",
       "      <td>2021-05-30 04:20:55</td>\n",
       "      <td>87550.0</td>\n",
       "      <td>1738.0</td>\n",
       "      <td>83790.0</td>\n",
       "    </tr>\n",
       "    <tr>\n",
       "      <th>306428</th>\n",
       "      <td>306429</td>\n",
       "      <td>05/29/2021</td>\n",
       "      <td>Zuid-Holland</td>\n",
       "      <td>Netherlands</td>\n",
       "      <td>2021-05-30 04:20:55</td>\n",
       "      <td>391559.0</td>\n",
       "      <td>4252.0</td>\n",
       "      <td>0.0</td>\n",
       "    </tr>\n",
       "  </tbody>\n",
       "</table>\n",
       "<p>306429 rows × 8 columns</p>\n",
       "</div>"
      ],
      "text/plain": [
       "           SNo ObservationDate     Province/State  Country/Region  \\\n",
       "0            1      01/22/2020              Anhui  Mainland China   \n",
       "1            2      01/22/2020            Beijing  Mainland China   \n",
       "2            3      01/22/2020          Chongqing  Mainland China   \n",
       "3            4      01/22/2020             Fujian  Mainland China   \n",
       "4            5      01/22/2020              Gansu  Mainland China   \n",
       "...        ...             ...                ...             ...   \n",
       "306424  306425      05/29/2021  Zaporizhia Oblast         Ukraine   \n",
       "306425  306426      05/29/2021            Zeeland     Netherlands   \n",
       "306426  306427      05/29/2021           Zhejiang  Mainland China   \n",
       "306427  306428      05/29/2021    Zhytomyr Oblast         Ukraine   \n",
       "306428  306429      05/29/2021       Zuid-Holland     Netherlands   \n",
       "\n",
       "                Last Update  Confirmed  Deaths  Recovered  \n",
       "0           1/22/2020 17:00        1.0     0.0        0.0  \n",
       "1           1/22/2020 17:00       14.0     0.0        0.0  \n",
       "2           1/22/2020 17:00        6.0     0.0        0.0  \n",
       "3           1/22/2020 17:00        1.0     0.0        0.0  \n",
       "4           1/22/2020 17:00        0.0     0.0        0.0  \n",
       "...                     ...        ...     ...        ...  \n",
       "306424  2021-05-30 04:20:55   102641.0  2335.0    95289.0  \n",
       "306425  2021-05-30 04:20:55    29147.0   245.0        0.0  \n",
       "306426  2021-05-30 04:20:55     1364.0     1.0     1324.0  \n",
       "306427  2021-05-30 04:20:55    87550.0  1738.0    83790.0  \n",
       "306428  2021-05-30 04:20:55   391559.0  4252.0        0.0  \n",
       "\n",
       "[306429 rows x 8 columns]"
      ]
     },
     "execution_count": 3,
     "metadata": {},
     "output_type": "execute_result"
    }
   ],
   "source": [
    "covid=pd.read_csv(r\"C:\\Users\\AKASH PATIL\\Downloads\\covid_19_data.csv\")\n",
    "covid"
   ]
  },
  {
   "cell_type": "markdown",
   "id": "5189d6f0",
   "metadata": {},
   "source": [
    "# 2. Data Cleaning:"
   ]
  },
  {
   "cell_type": "code",
   "execution_count": null,
   "id": "78d8dd02",
   "metadata": {},
   "outputs": [],
   "source": [
    "Handle missing values.\n",
    "Convert data types if necessary.\n",
    "Check for duplicates."
   ]
  },
  {
   "cell_type": "code",
   "execution_count": 4,
   "id": "826f034a",
   "metadata": {},
   "outputs": [
    {
     "data": {
      "text/plain": [
       "SNo                0\n",
       "ObservationDate    0\n",
       "Province/State     0\n",
       "Country/Region     0\n",
       "Last Update        0\n",
       "Confirmed          0\n",
       "Deaths             0\n",
       "Recovered          0\n",
       "dtype: int64"
      ]
     },
     "execution_count": 4,
     "metadata": {},
     "output_type": "execute_result"
    }
   ],
   "source": [
    "# Handle missing values\n",
    "\n",
    "covid.isna().sum()\n",
    "\n",
    "for i in covid.columns:\n",
    "    if covid[i].dtype == 'object':\n",
    "        mo=covid[i].mode()[0]\n",
    "        covid[i]=covid[i].fillna(mo)\n",
    "\n",
    "    else:\n",
    "        m=covid[i].mean()\n",
    "        covid[i].fillna(m)\n",
    "\n",
    "\n",
    "covid.isna().sum()\n",
    "\n",
    "\n",
    "\n",
    "\n",
    "# Convert data types if necessary ( ObservationDate    datetime64[ns]) change to datetime\n",
    "\n",
    "# df['ObservationDate'] = pd.to_datetime(df['ObservationDate'])\n",
    "\n",
    "# Check for duplicates\n",
    "\n"
   ]
  },
  {
   "cell_type": "code",
   "execution_count": 5,
   "id": "51329119",
   "metadata": {},
   "outputs": [
    {
     "data": {
      "text/plain": [
       "0        2020-01-22\n",
       "1        2020-01-22\n",
       "2        2020-01-22\n",
       "3        2020-01-22\n",
       "4        2020-01-22\n",
       "            ...    \n",
       "306424   2021-05-29\n",
       "306425   2021-05-29\n",
       "306426   2021-05-29\n",
       "306427   2021-05-29\n",
       "306428   2021-05-29\n",
       "Name: ObservationDate, Length: 306429, dtype: datetime64[ns]"
      ]
     },
     "execution_count": 5,
     "metadata": {},
     "output_type": "execute_result"
    }
   ],
   "source": [
    "# Convert data types if necessary ( ObservationDate    datetime64[ns]) change to datetime\n",
    "\n",
    "covid['ObservationDate']=pd.to_datetime(covid['ObservationDate'])\n",
    "\n",
    "covid['ObservationDate']\n"
   ]
  },
  {
   "cell_type": "code",
   "execution_count": 6,
   "id": "1db8c389",
   "metadata": {},
   "outputs": [
    {
     "data": {
      "text/plain": [
       "0"
      ]
     },
     "execution_count": 6,
     "metadata": {},
     "output_type": "execute_result"
    }
   ],
   "source": [
    "covid.duplicated().sum()"
   ]
  },
  {
   "cell_type": "code",
   "execution_count": 31,
   "id": "390849b2",
   "metadata": {},
   "outputs": [
    {
     "data": {
      "text/plain": [
       "0"
      ]
     },
     "execution_count": 31,
     "metadata": {},
     "output_type": "execute_result"
    }
   ],
   "source": [
    "# Check for duplicates\n",
    "covid.duplicated().sum()"
   ]
  },
  {
   "cell_type": "markdown",
   "id": "004e0e00",
   "metadata": {},
   "source": [
    "# 3. Descriptive Statistics:"
   ]
  },
  {
   "cell_type": "markdown",
   "id": "bbed810e",
   "metadata": {},
   "source": [
    "Generate descriptive statistics (mean, median, min, max) for numeric columns.<br>\n",
    "Explore summary statistics for categorical columns."
   ]
  },
  {
   "cell_type": "code",
   "execution_count": 17,
   "id": "72237306",
   "metadata": {},
   "outputs": [
    {
     "data": {
      "text/plain": [
       "2036.4032679674574"
      ]
     },
     "execution_count": 17,
     "metadata": {},
     "output_type": "execute_result"
    }
   ],
   "source": [
    "# Descriptive statistics\n",
    "\n",
    "\n",
    "\n",
    "\n",
    "# Descriptive statistics for categorical columns\n",
    "\n",
    "\n",
    "# Summary statistics for categorical columns\n",
    "\n"
   ]
  },
  {
   "cell_type": "code",
   "execution_count": 7,
   "id": "ff848f35",
   "metadata": {},
   "outputs": [
    {
     "data": {
      "text/html": [
       "<div>\n",
       "<style scoped>\n",
       "    .dataframe tbody tr th:only-of-type {\n",
       "        vertical-align: middle;\n",
       "    }\n",
       "\n",
       "    .dataframe tbody tr th {\n",
       "        vertical-align: top;\n",
       "    }\n",
       "\n",
       "    .dataframe thead th {\n",
       "        text-align: right;\n",
       "    }\n",
       "</style>\n",
       "<table border=\"1\" class=\"dataframe\">\n",
       "  <thead>\n",
       "    <tr style=\"text-align: right;\">\n",
       "      <th></th>\n",
       "      <th>SNo</th>\n",
       "      <th>ObservationDate</th>\n",
       "      <th>Confirmed</th>\n",
       "      <th>Deaths</th>\n",
       "      <th>Recovered</th>\n",
       "    </tr>\n",
       "  </thead>\n",
       "  <tbody>\n",
       "    <tr>\n",
       "      <th>count</th>\n",
       "      <td>306429.000000</td>\n",
       "      <td>306429</td>\n",
       "      <td>3.064290e+05</td>\n",
       "      <td>306429.000000</td>\n",
       "      <td>3.064290e+05</td>\n",
       "    </tr>\n",
       "    <tr>\n",
       "      <th>mean</th>\n",
       "      <td>153215.000000</td>\n",
       "      <td>2020-11-06 01:54:54.146441728</td>\n",
       "      <td>8.567091e+04</td>\n",
       "      <td>2036.403268</td>\n",
       "      <td>5.042029e+04</td>\n",
       "    </tr>\n",
       "    <tr>\n",
       "      <th>min</th>\n",
       "      <td>1.000000</td>\n",
       "      <td>2020-01-22 00:00:00</td>\n",
       "      <td>-3.028440e+05</td>\n",
       "      <td>-178.000000</td>\n",
       "      <td>-8.544050e+05</td>\n",
       "    </tr>\n",
       "    <tr>\n",
       "      <th>25%</th>\n",
       "      <td>76608.000000</td>\n",
       "      <td>2020-07-30 00:00:00</td>\n",
       "      <td>1.042000e+03</td>\n",
       "      <td>13.000000</td>\n",
       "      <td>1.100000e+01</td>\n",
       "    </tr>\n",
       "    <tr>\n",
       "      <th>50%</th>\n",
       "      <td>153215.000000</td>\n",
       "      <td>2020-11-10 00:00:00</td>\n",
       "      <td>1.037500e+04</td>\n",
       "      <td>192.000000</td>\n",
       "      <td>1.751000e+03</td>\n",
       "    </tr>\n",
       "    <tr>\n",
       "      <th>75%</th>\n",
       "      <td>229822.000000</td>\n",
       "      <td>2021-02-18 00:00:00</td>\n",
       "      <td>5.075200e+04</td>\n",
       "      <td>1322.000000</td>\n",
       "      <td>2.027000e+04</td>\n",
       "    </tr>\n",
       "    <tr>\n",
       "      <th>max</th>\n",
       "      <td>306429.000000</td>\n",
       "      <td>2021-05-29 00:00:00</td>\n",
       "      <td>5.863138e+06</td>\n",
       "      <td>112385.000000</td>\n",
       "      <td>6.399531e+06</td>\n",
       "    </tr>\n",
       "    <tr>\n",
       "      <th>std</th>\n",
       "      <td>88458.577156</td>\n",
       "      <td>NaN</td>\n",
       "      <td>2.775516e+05</td>\n",
       "      <td>6410.938048</td>\n",
       "      <td>2.015124e+05</td>\n",
       "    </tr>\n",
       "  </tbody>\n",
       "</table>\n",
       "</div>"
      ],
      "text/plain": [
       "                 SNo                ObservationDate     Confirmed  \\\n",
       "count  306429.000000                         306429  3.064290e+05   \n",
       "mean   153215.000000  2020-11-06 01:54:54.146441728  8.567091e+04   \n",
       "min         1.000000            2020-01-22 00:00:00 -3.028440e+05   \n",
       "25%     76608.000000            2020-07-30 00:00:00  1.042000e+03   \n",
       "50%    153215.000000            2020-11-10 00:00:00  1.037500e+04   \n",
       "75%    229822.000000            2021-02-18 00:00:00  5.075200e+04   \n",
       "max    306429.000000            2021-05-29 00:00:00  5.863138e+06   \n",
       "std     88458.577156                            NaN  2.775516e+05   \n",
       "\n",
       "              Deaths     Recovered  \n",
       "count  306429.000000  3.064290e+05  \n",
       "mean     2036.403268  5.042029e+04  \n",
       "min      -178.000000 -8.544050e+05  \n",
       "25%        13.000000  1.100000e+01  \n",
       "50%       192.000000  1.751000e+03  \n",
       "75%      1322.000000  2.027000e+04  \n",
       "max    112385.000000  6.399531e+06  \n",
       "std      6410.938048  2.015124e+05  "
      ]
     },
     "execution_count": 7,
     "metadata": {},
     "output_type": "execute_result"
    }
   ],
   "source": [
    "# Descriptive statistics\n",
    "covid.describe()"
   ]
  },
  {
   "cell_type": "code",
   "execution_count": 8,
   "id": "6498e34e",
   "metadata": {},
   "outputs": [],
   "source": [
    "# seggregate data for categorial and continuous type [Descriptive statistics for categorical columns karnyasathi aadhi cat / con madhe columns divide karawe lagtat.]\n",
    "cat=[]\n",
    "con=[]\n",
    "\n",
    "for i in covid.columns:\n",
    "    if covid[i].dtype=='object':\n",
    "        cat.append(i)\n",
    "\n",
    "    else:\n",
    "        con.append(i)\n",
    "\n",
    "\n",
    "\n"
   ]
  },
  {
   "cell_type": "code",
   "execution_count": 9,
   "id": "811b27bc",
   "metadata": {},
   "outputs": [
    {
     "data": {
      "text/plain": [
       "['Province/State', 'Country/Region', 'Last Update']"
      ]
     },
     "execution_count": 9,
     "metadata": {},
     "output_type": "execute_result"
    }
   ],
   "source": [
    "cat"
   ]
  },
  {
   "cell_type": "code",
   "execution_count": 10,
   "id": "d51c9d8f",
   "metadata": {},
   "outputs": [
    {
     "data": {
      "text/plain": [
       "['SNo', 'ObservationDate', 'Confirmed', 'Deaths', 'Recovered']"
      ]
     },
     "execution_count": 10,
     "metadata": {},
     "output_type": "execute_result"
    }
   ],
   "source": [
    "con"
   ]
  },
  {
   "cell_type": "code",
   "execution_count": 11,
   "id": "4d9149a4",
   "metadata": {},
   "outputs": [
    {
     "data": {
      "text/html": [
       "<div>\n",
       "<style scoped>\n",
       "    .dataframe tbody tr th:only-of-type {\n",
       "        vertical-align: middle;\n",
       "    }\n",
       "\n",
       "    .dataframe tbody tr th {\n",
       "        vertical-align: top;\n",
       "    }\n",
       "\n",
       "    .dataframe thead th {\n",
       "        text-align: right;\n",
       "    }\n",
       "</style>\n",
       "<table border=\"1\" class=\"dataframe\">\n",
       "  <thead>\n",
       "    <tr style=\"text-align: right;\">\n",
       "      <th></th>\n",
       "      <th>Province/State</th>\n",
       "      <th>Country/Region</th>\n",
       "      <th>Last Update</th>\n",
       "    </tr>\n",
       "  </thead>\n",
       "  <tbody>\n",
       "    <tr>\n",
       "      <th>count</th>\n",
       "      <td>306429</td>\n",
       "      <td>306429</td>\n",
       "      <td>306429</td>\n",
       "    </tr>\n",
       "    <tr>\n",
       "      <th>unique</th>\n",
       "      <td>736</td>\n",
       "      <td>229</td>\n",
       "      <td>1905</td>\n",
       "    </tr>\n",
       "    <tr>\n",
       "      <th>top</th>\n",
       "      <td>Unknown</td>\n",
       "      <td>Russia</td>\n",
       "      <td>2021-04-02 15:13:53</td>\n",
       "    </tr>\n",
       "    <tr>\n",
       "      <th>freq</th>\n",
       "      <td>82226</td>\n",
       "      <td>30251</td>\n",
       "      <td>239885</td>\n",
       "    </tr>\n",
       "  </tbody>\n",
       "</table>\n",
       "</div>"
      ],
      "text/plain": [
       "       Province/State Country/Region          Last Update\n",
       "count          306429         306429               306429\n",
       "unique            736            229                 1905\n",
       "top           Unknown         Russia  2021-04-02 15:13:53\n",
       "freq            82226          30251               239885"
      ]
     },
     "execution_count": 11,
     "metadata": {},
     "output_type": "execute_result"
    }
   ],
   "source": [
    "# Descriptive statistics for categorical columns\n",
    "covid[cat].describe()"
   ]
  },
  {
   "cell_type": "code",
   "execution_count": 12,
   "id": "f9479559",
   "metadata": {},
   "outputs": [
    {
     "name": "stdout",
     "output_type": "stream",
     "text": [
      "<class 'pandas.core.frame.DataFrame'>\n",
      "RangeIndex: 306429 entries, 0 to 306428\n",
      "Data columns (total 3 columns):\n",
      " #   Column          Non-Null Count   Dtype \n",
      "---  ------          --------------   ----- \n",
      " 0   Province/State  306429 non-null  object\n",
      " 1   Country/Region  306429 non-null  object\n",
      " 2   Last Update     306429 non-null  object\n",
      "dtypes: object(3)\n",
      "memory usage: 7.0+ MB\n"
     ]
    }
   ],
   "source": [
    " #Summary statistics for categorical columns\n",
    "covid[cat].info()\n"
   ]
  },
  {
   "cell_type": "markdown",
   "id": "39872389",
   "metadata": {},
   "source": [
    "# 4. Time Series Analysis:"
   ]
  },
  {
   "cell_type": "markdown",
   "id": "e2e355d2",
   "metadata": {},
   "source": [
    "Analyze the trends in confirmed, deaths, and recovered cases over time.<br>\n",
    "Create time-based visualizations."
   ]
  },
  {
   "cell_type": "code",
   "execution_count": null,
   "id": "a74a66fd",
   "metadata": {},
   "outputs": [],
   "source": [
    "# Time series analysis\n",
    "# groupby 'ObservationDate' and apply aggregation functions like sum on deaths,confirmed ,recovered \n",
    "# df_time = df.groupby('ObservationDate').agg({'Confirmed': 'sum', 'Deaths': 'sum', 'Recovered': 'sum'})\n",
    "\n",
    "# Plot time series data using line plot\n",
    "\n",
    "# syntax: \n",
    "#sns.lineplot(data=df_time, x='ObservationDate', y='Confirmed', label='Confirmed')\n",
    "# sns.lineplot(data=df_time, x='ObservationDate', y='Deaths', label='Deaths')\n",
    "\n",
    "\n"
   ]
  },
  {
   "cell_type": "code",
   "execution_count": 13,
   "id": "cc213667",
   "metadata": {},
   "outputs": [
    {
     "data": {
      "text/html": [
       "<div>\n",
       "<style scoped>\n",
       "    .dataframe tbody tr th:only-of-type {\n",
       "        vertical-align: middle;\n",
       "    }\n",
       "\n",
       "    .dataframe tbody tr th {\n",
       "        vertical-align: top;\n",
       "    }\n",
       "\n",
       "    .dataframe thead th {\n",
       "        text-align: right;\n",
       "    }\n",
       "</style>\n",
       "<table border=\"1\" class=\"dataframe\">\n",
       "  <thead>\n",
       "    <tr style=\"text-align: right;\">\n",
       "      <th></th>\n",
       "      <th>Deaths</th>\n",
       "      <th>Confirmed</th>\n",
       "      <th>Recovered</th>\n",
       "    </tr>\n",
       "    <tr>\n",
       "      <th>ObservationDate</th>\n",
       "      <th></th>\n",
       "      <th></th>\n",
       "      <th></th>\n",
       "    </tr>\n",
       "  </thead>\n",
       "  <tbody>\n",
       "    <tr>\n",
       "      <th>2020-01-22</th>\n",
       "      <td>17.0</td>\n",
       "      <td>557.0</td>\n",
       "      <td>30.0</td>\n",
       "    </tr>\n",
       "    <tr>\n",
       "      <th>2020-01-23</th>\n",
       "      <td>34.0</td>\n",
       "      <td>1097.0</td>\n",
       "      <td>60.0</td>\n",
       "    </tr>\n",
       "    <tr>\n",
       "      <th>2020-01-24</th>\n",
       "      <td>26.0</td>\n",
       "      <td>941.0</td>\n",
       "      <td>39.0</td>\n",
       "    </tr>\n",
       "    <tr>\n",
       "      <th>2020-01-25</th>\n",
       "      <td>42.0</td>\n",
       "      <td>1437.0</td>\n",
       "      <td>42.0</td>\n",
       "    </tr>\n",
       "    <tr>\n",
       "      <th>2020-01-26</th>\n",
       "      <td>56.0</td>\n",
       "      <td>2118.0</td>\n",
       "      <td>56.0</td>\n",
       "    </tr>\n",
       "    <tr>\n",
       "      <th>...</th>\n",
       "      <td>...</td>\n",
       "      <td>...</td>\n",
       "      <td>...</td>\n",
       "    </tr>\n",
       "    <tr>\n",
       "      <th>2021-05-25</th>\n",
       "      <td>3485788.0</td>\n",
       "      <td>167848207.0</td>\n",
       "      <td>104824935.0</td>\n",
       "    </tr>\n",
       "    <tr>\n",
       "      <th>2021-05-26</th>\n",
       "      <td>3498544.0</td>\n",
       "      <td>168416423.0</td>\n",
       "      <td>105380748.0</td>\n",
       "    </tr>\n",
       "    <tr>\n",
       "      <th>2021-05-27</th>\n",
       "      <td>3511297.0</td>\n",
       "      <td>168970791.0</td>\n",
       "      <td>106078106.0</td>\n",
       "    </tr>\n",
       "    <tr>\n",
       "      <th>2021-05-28</th>\n",
       "      <td>3523117.0</td>\n",
       "      <td>169470725.0</td>\n",
       "      <td>106633069.0</td>\n",
       "    </tr>\n",
       "    <tr>\n",
       "      <th>2021-05-29</th>\n",
       "      <td>3533619.0</td>\n",
       "      <td>169951560.0</td>\n",
       "      <td>107140669.0</td>\n",
       "    </tr>\n",
       "  </tbody>\n",
       "</table>\n",
       "<p>494 rows × 3 columns</p>\n",
       "</div>"
      ],
      "text/plain": [
       "                    Deaths    Confirmed    Recovered\n",
       "ObservationDate                                     \n",
       "2020-01-22            17.0        557.0         30.0\n",
       "2020-01-23            34.0       1097.0         60.0\n",
       "2020-01-24            26.0        941.0         39.0\n",
       "2020-01-25            42.0       1437.0         42.0\n",
       "2020-01-26            56.0       2118.0         56.0\n",
       "...                    ...          ...          ...\n",
       "2021-05-25       3485788.0  167848207.0  104824935.0\n",
       "2021-05-26       3498544.0  168416423.0  105380748.0\n",
       "2021-05-27       3511297.0  168970791.0  106078106.0\n",
       "2021-05-28       3523117.0  169470725.0  106633069.0\n",
       "2021-05-29       3533619.0  169951560.0  107140669.0\n",
       "\n",
       "[494 rows x 3 columns]"
      ]
     },
     "execution_count": 13,
     "metadata": {},
     "output_type": "execute_result"
    }
   ],
   "source": [
    "# Time series analysis\n",
    "covid_time=covid.groupby('ObservationDate').agg({'Deaths':'sum','Confirmed':'sum','Recovered':'sum'})\n",
    "covid_time"
   ]
  },
  {
   "cell_type": "code",
   "execution_count": 14,
   "id": "cc39d7a7",
   "metadata": {},
   "outputs": [],
   "source": [
    "from warnings import filterwarnings\n",
    "filterwarnings('ignore')"
   ]
  },
  {
   "cell_type": "code",
   "execution_count": 15,
   "id": "e3067113",
   "metadata": {},
   "outputs": [
    {
     "data": {
      "text/plain": [
       "<Axes: xlabel='ObservationDate', ylabel='Confirmed'>"
      ]
     },
     "execution_count": 15,
     "metadata": {},
     "output_type": "execute_result"
    },
    {
     "data": {
      "image/png": "[encoded data removed]",
      "text/plain": [
       "<Figure size 640x480 with 1 Axes>"
      ]
     },
     "metadata": {},
     "output_type": "display_data"
    }
   ],
   "source": [
    "# Plot time series data using line plot for confirmed.\n",
    "\n",
    "sns.lineplot(data=covid_time,x='ObservationDate',y= 'Confirmed',label='Confirmed')\n"
   ]
  },
  {
   "cell_type": "code",
   "execution_count": 36,
   "id": "2f752df2",
   "metadata": {},
   "outputs": [
    {
     "data": {
      "text/plain": [
       "<Axes: xlabel='ObservationDate', ylabel='Deaths'>"
      ]
     },
     "execution_count": 36,
     "metadata": {},
     "output_type": "execute_result"
    },
    {
     "data": {
      "image/png": "[encoded data removed]",
      "text/plain": [
       "<Figure size 640x480 with 1 Axes>"
      ]
     },
     "metadata": {},
     "output_type": "display_data"
    }
   ],
   "source": [
    "# Plot time series data using line plot for deaths\n",
    "sns.lineplot(data=covid_time,x='ObservationDate',y='Deaths',label='Deaths')\n"
   ]
  },
  {
   "cell_type": "markdown",
   "id": "a7d087b3",
   "metadata": {},
   "source": [
    "# 5. Geographical Analysis:"
   ]
  },
  {
   "cell_type": "markdown",
   "id": "647f69a1",
   "metadata": {},
   "source": [
    "Analyze the distribution of cases across different countries/regions.<br>\n",
    "Create geographical visualizations (e.g., world map)."
   ]
  },
  {
   "cell_type": "code",
   "execution_count": null,
   "id": "0def7145",
   "metadata": {},
   "outputs": [],
   "source": [
    "# Geographical analysis\n",
    "# df_country = df.groupby('Country/Region').agg({'Confirmed': 'sum', 'Deaths': 'sum', 'Recovered': 'sum'})\n",
    "\n",
    "# Plot geographical data\n",
    "# sns.barplot(x=df_country.index, y='Confirmed', data=df_country)\n",
    "\n"
   ]
  },
  {
   "cell_type": "code",
   "execution_count": 16,
   "id": "b9d5933b",
   "metadata": {},
   "outputs": [
    {
     "data": {
      "text/html": [
       "<div>\n",
       "<style scoped>\n",
       "    .dataframe tbody tr th:only-of-type {\n",
       "        vertical-align: middle;\n",
       "    }\n",
       "\n",
       "    .dataframe tbody tr th {\n",
       "        vertical-align: top;\n",
       "    }\n",
       "\n",
       "    .dataframe thead th {\n",
       "        text-align: right;\n",
       "    }\n",
       "</style>\n",
       "<table border=\"1\" class=\"dataframe\">\n",
       "  <thead>\n",
       "    <tr style=\"text-align: right;\">\n",
       "      <th></th>\n",
       "      <th>Confirmed</th>\n",
       "      <th>Deaths</th>\n",
       "      <th>Recovered</th>\n",
       "    </tr>\n",
       "    <tr>\n",
       "      <th>Country/Region</th>\n",
       "      <th></th>\n",
       "      <th></th>\n",
       "      <th></th>\n",
       "    </tr>\n",
       "  </thead>\n",
       "  <tbody>\n",
       "    <tr>\n",
       "      <th>Azerbaijan</th>\n",
       "      <td>1.0</td>\n",
       "      <td>0.0</td>\n",
       "      <td>0.0</td>\n",
       "    </tr>\n",
       "    <tr>\n",
       "      <th>('St. Martin',)</th>\n",
       "      <td>2.0</td>\n",
       "      <td>0.0</td>\n",
       "      <td>0.0</td>\n",
       "    </tr>\n",
       "    <tr>\n",
       "      <th>Afghanistan</th>\n",
       "      <td>17026442.0</td>\n",
       "      <td>669075.0</td>\n",
       "      <td>13464399.0</td>\n",
       "    </tr>\n",
       "    <tr>\n",
       "      <th>Albania</th>\n",
       "      <td>19768869.0</td>\n",
       "      <td>375955.0</td>\n",
       "      <td>13945256.0</td>\n",
       "    </tr>\n",
       "    <tr>\n",
       "      <th>Algeria</th>\n",
       "      <td>27684358.0</td>\n",
       "      <td>834464.0</td>\n",
       "      <td>18959299.0</td>\n",
       "    </tr>\n",
       "    <tr>\n",
       "      <th>...</th>\n",
       "      <td>...</td>\n",
       "      <td>...</td>\n",
       "      <td>...</td>\n",
       "    </tr>\n",
       "    <tr>\n",
       "      <th>West Bank and Gaza</th>\n",
       "      <td>41819444.0</td>\n",
       "      <td>440378.0</td>\n",
       "      <td>37003116.0</td>\n",
       "    </tr>\n",
       "    <tr>\n",
       "      <th>Yemen</th>\n",
       "      <td>962066.0</td>\n",
       "      <td>237613.0</td>\n",
       "      <td>506523.0</td>\n",
       "    </tr>\n",
       "    <tr>\n",
       "      <th>Zambia</th>\n",
       "      <td>13493953.0</td>\n",
       "      <td>205990.0</td>\n",
       "      <td>12625626.0</td>\n",
       "    </tr>\n",
       "    <tr>\n",
       "      <th>Zimbabwe</th>\n",
       "      <td>6484581.0</td>\n",
       "      <td>237234.0</td>\n",
       "      <td>5594887.0</td>\n",
       "    </tr>\n",
       "    <tr>\n",
       "      <th>occupied Palestinian territory</th>\n",
       "      <td>25.0</td>\n",
       "      <td>0.0</td>\n",
       "      <td>0.0</td>\n",
       "    </tr>\n",
       "  </tbody>\n",
       "</table>\n",
       "<p>229 rows × 3 columns</p>\n",
       "</div>"
      ],
      "text/plain": [
       "                                 Confirmed    Deaths   Recovered\n",
       "Country/Region                                                  \n",
       " Azerbaijan                            1.0       0.0         0.0\n",
       "('St. Martin',)                        2.0       0.0         0.0\n",
       "Afghanistan                     17026442.0  669075.0  13464399.0\n",
       "Albania                         19768869.0  375955.0  13945256.0\n",
       "Algeria                         27684358.0  834464.0  18959299.0\n",
       "...                                    ...       ...         ...\n",
       "West Bank and Gaza              41819444.0  440378.0  37003116.0\n",
       "Yemen                             962066.0  237613.0    506523.0\n",
       "Zambia                          13493953.0  205990.0  12625626.0\n",
       "Zimbabwe                         6484581.0  237234.0   5594887.0\n",
       "occupied Palestinian territory        25.0       0.0         0.0\n",
       "\n",
       "[229 rows x 3 columns]"
      ]
     },
     "execution_count": 16,
     "metadata": {},
     "output_type": "execute_result"
    }
   ],
   "source": [
    "# Geographical analysis\n",
    "covid_country=covid.groupby('Country/Region').agg({'Confirmed': 'sum', 'Deaths': 'sum', 'Recovered': 'sum'})\n",
    "covid_country"
   ]
  },
  {
   "cell_type": "code",
   "execution_count": 17,
   "id": "eddbbce7",
   "metadata": {},
   "outputs": [
    {
     "data": {
      "text/plain": [
       "<Axes: xlabel='Country/Region', ylabel='Confirmed'>"
      ]
     },
     "execution_count": 17,
     "metadata": {},
     "output_type": "execute_result"
    },
    {
     "data": {
      "image/png": "[encoded data removed]",
      "text/plain": [
       "<Figure size 640x480 with 1 Axes>"
      ]
     },
     "metadata": {},
     "output_type": "display_data"
    }
   ],
   "source": [
    "# Plot geographical data\n",
    "sns.barplot(x=covid_country.index,y='Confirmed',data=covid_country)"
   ]
  },
  {
   "cell_type": "markdown",
   "id": "0271decc",
   "metadata": {},
   "source": [
    "# 6. Correlation Analysis:"
   ]
  },
  {
   "cell_type": "markdown",
   "id": "74cf06f2",
   "metadata": {},
   "source": [
    "Examine the correlation between different numeric variables."
   ]
  },
  {
   "cell_type": "code",
   "execution_count": 18,
   "id": "c3c2f128",
   "metadata": {},
   "outputs": [
    {
     "data": {
      "text/html": [
       "<div>\n",
       "<style scoped>\n",
       "    .dataframe tbody tr th:only-of-type {\n",
       "        vertical-align: middle;\n",
       "    }\n",
       "\n",
       "    .dataframe tbody tr th {\n",
       "        vertical-align: top;\n",
       "    }\n",
       "\n",
       "    .dataframe thead th {\n",
       "        text-align: right;\n",
       "    }\n",
       "</style>\n",
       "<table border=\"1\" class=\"dataframe\">\n",
       "  <thead>\n",
       "    <tr style=\"text-align: right;\">\n",
       "      <th></th>\n",
       "      <th>Confirmed</th>\n",
       "      <th>Deaths</th>\n",
       "      <th>Recovered</th>\n",
       "    </tr>\n",
       "  </thead>\n",
       "  <tbody>\n",
       "    <tr>\n",
       "      <th>Confirmed</th>\n",
       "      <td>1.000000</td>\n",
       "      <td>0.888416</td>\n",
       "      <td>0.633479</td>\n",
       "    </tr>\n",
       "    <tr>\n",
       "      <th>Deaths</th>\n",
       "      <td>0.888416</td>\n",
       "      <td>1.000000</td>\n",
       "      <td>0.538416</td>\n",
       "    </tr>\n",
       "    <tr>\n",
       "      <th>Recovered</th>\n",
       "      <td>0.633479</td>\n",
       "      <td>0.538416</td>\n",
       "      <td>1.000000</td>\n",
       "    </tr>\n",
       "  </tbody>\n",
       "</table>\n",
       "</div>"
      ],
      "text/plain": [
       "           Confirmed    Deaths  Recovered\n",
       "Confirmed   1.000000  0.888416   0.633479\n",
       "Deaths      0.888416  1.000000   0.538416\n",
       "Recovered   0.633479  0.538416   1.000000"
      ]
     },
     "execution_count": 18,
     "metadata": {},
     "output_type": "execute_result"
    }
   ],
   "source": [
    "# Correlation analysis between confirmed,deaths and recovered\n",
    "corr=covid[['Confirmed','Deaths','Recovered']].corr()\n",
    "\n",
    "corr\n",
    "# Plot correlation on heat map\n",
    "\n"
   ]
  },
  {
   "cell_type": "code",
   "execution_count": 19,
   "id": "6ebd8eab",
   "metadata": {},
   "outputs": [
    {
     "data": {
      "text/plain": [
       "<Axes: >"
      ]
     },
     "execution_count": 19,
     "metadata": {},
     "output_type": "execute_result"
    },
    {
     "data": {
      "image/png": "[encoded data removed]",
      "text/plain": [
       "<Figure size 640x480 with 2 Axes>"
      ]
     },
     "metadata": {},
     "output_type": "display_data"
    }
   ],
   "source": [
    "# Plot correlation on heat map\n",
    "sns.heatmap(corr,annot=True)"
   ]
  },
  {
   "cell_type": "markdown",
   "id": "31e692b2",
   "metadata": {},
   "source": [
    "# 7. Advanced Analysis:"
   ]
  },
  {
   "cell_type": "markdown",
   "id": "e8c818b9",
   "metadata": {},
   "source": [
    "Explore advanced visualizations or statistical tests based on the specific questions you want to answer."
   ]
  },
  {
   "cell_type": "code",
   "execution_count": 21,
   "id": "bc0fe4db",
   "metadata": {},
   "outputs": [
    {
     "data": {
      "text/html": [
       "<div>\n",
       "<style scoped>\n",
       "    .dataframe tbody tr th:only-of-type {\n",
       "        vertical-align: middle;\n",
       "    }\n",
       "\n",
       "    .dataframe tbody tr th {\n",
       "        vertical-align: top;\n",
       "    }\n",
       "\n",
       "    .dataframe thead th {\n",
       "        text-align: right;\n",
       "    }\n",
       "</style>\n",
       "<table border=\"1\" class=\"dataframe\">\n",
       "  <thead>\n",
       "    <tr style=\"text-align: right;\">\n",
       "      <th></th>\n",
       "      <th>Confirmed</th>\n",
       "      <th>Deaths</th>\n",
       "      <th>Recovered</th>\n",
       "    </tr>\n",
       "    <tr>\n",
       "      <th>Country/Region</th>\n",
       "      <th></th>\n",
       "      <th></th>\n",
       "      <th></th>\n",
       "    </tr>\n",
       "  </thead>\n",
       "  <tbody>\n",
       "    <tr>\n",
       "      <th>Azerbaijan</th>\n",
       "      <td>1.0</td>\n",
       "      <td>0.0</td>\n",
       "      <td>0.0</td>\n",
       "    </tr>\n",
       "    <tr>\n",
       "      <th>('St. Martin',)</th>\n",
       "      <td>2.0</td>\n",
       "      <td>0.0</td>\n",
       "      <td>0.0</td>\n",
       "    </tr>\n",
       "    <tr>\n",
       "      <th>Afghanistan</th>\n",
       "      <td>17026442.0</td>\n",
       "      <td>669075.0</td>\n",
       "      <td>13464399.0</td>\n",
       "    </tr>\n",
       "    <tr>\n",
       "      <th>Albania</th>\n",
       "      <td>19768869.0</td>\n",
       "      <td>375955.0</td>\n",
       "      <td>13945256.0</td>\n",
       "    </tr>\n",
       "    <tr>\n",
       "      <th>Algeria</th>\n",
       "      <td>27684358.0</td>\n",
       "      <td>834464.0</td>\n",
       "      <td>18959299.0</td>\n",
       "    </tr>\n",
       "    <tr>\n",
       "      <th>...</th>\n",
       "      <td>...</td>\n",
       "      <td>...</td>\n",
       "      <td>...</td>\n",
       "    </tr>\n",
       "    <tr>\n",
       "      <th>West Bank and Gaza</th>\n",
       "      <td>41819444.0</td>\n",
       "      <td>440378.0</td>\n",
       "      <td>37003116.0</td>\n",
       "    </tr>\n",
       "    <tr>\n",
       "      <th>Yemen</th>\n",
       "      <td>962066.0</td>\n",
       "      <td>237613.0</td>\n",
       "      <td>506523.0</td>\n",
       "    </tr>\n",
       "    <tr>\n",
       "      <th>Zambia</th>\n",
       "      <td>13493953.0</td>\n",
       "      <td>205990.0</td>\n",
       "      <td>12625626.0</td>\n",
       "    </tr>\n",
       "    <tr>\n",
       "      <th>Zimbabwe</th>\n",
       "      <td>6484581.0</td>\n",
       "      <td>237234.0</td>\n",
       "      <td>5594887.0</td>\n",
       "    </tr>\n",
       "    <tr>\n",
       "      <th>occupied Palestinian territory</th>\n",
       "      <td>25.0</td>\n",
       "      <td>0.0</td>\n",
       "      <td>0.0</td>\n",
       "    </tr>\n",
       "  </tbody>\n",
       "</table>\n",
       "<p>229 rows × 3 columns</p>\n",
       "</div>"
      ],
      "text/plain": [
       "                                 Confirmed    Deaths   Recovered\n",
       "Country/Region                                                  \n",
       " Azerbaijan                            1.0       0.0         0.0\n",
       "('St. Martin',)                        2.0       0.0         0.0\n",
       "Afghanistan                     17026442.0  669075.0  13464399.0\n",
       "Albania                         19768869.0  375955.0  13945256.0\n",
       "Algeria                         27684358.0  834464.0  18959299.0\n",
       "...                                    ...       ...         ...\n",
       "West Bank and Gaza              41819444.0  440378.0  37003116.0\n",
       "Yemen                             962066.0  237613.0    506523.0\n",
       "Zambia                          13493953.0  205990.0  12625626.0\n",
       "Zimbabwe                         6484581.0  237234.0   5594887.0\n",
       "occupied Palestinian territory        25.0       0.0         0.0\n",
       "\n",
       "[229 rows x 3 columns]"
      ]
     },
     "execution_count": 21,
     "metadata": {},
     "output_type": "execute_result"
    }
   ],
   "source": [
    "# Calculate the total number of confirmed cases, deaths, and recoveries for each country/region.\n",
    "\n",
    "\n",
    "covid_total=covid.groupby('Country/Region')[['Confirmed','Deaths','Recovered']].sum()\n",
    "covid_total\n",
    "\n"
   ]
  },
  {
   "cell_type": "code",
   "execution_count": 32,
   "id": "6825f26e",
   "metadata": {},
   "outputs": [
    {
     "name": "stdout",
     "output_type": "stream",
     "text": [
      "                   Confirmed       Deaths    Recovered\n",
      "Country/Region                                        \n",
      "US              6.049146e+09  123303762.0  503370956.0\n",
      "                   Confirmed       Deaths    Recovered\n",
      "Country/Region                                        \n",
      "US              6.049146e+09  123303762.0  503370956.0\n",
      "                   Confirmed      Deaths     Recovered\n",
      "Country/Region                                        \n",
      "India           3.226768e+09  44424723.0  2.900590e+09\n"
     ]
    }
   ],
   "source": [
    "# Identify the countries/regions with the highest number of confirmed cases, deaths, and recoveries.\n",
    "\n",
    "\n",
    "covid_confirmed = covid_total.nlargest(1,'Confirmed') \n",
    "print(covid_confirmed)\n",
    "covid_deaths = covid_total.nlargest(1,'Deaths')\n",
    "print(covid_deaths)\n",
    "covid_recovered = covid_total.nlargest(1,'Recovered')\n",
    "print(covid_recovered)\n"
   ]
  },
  {
   "cell_type": "code",
   "execution_count": 34,
   "id": "3ebdf995",
   "metadata": {},
   "outputs": [
    {
     "data": {
      "image/png": "[encoded data removed]",
      "text/plain": [
       "<Figure size 640x480 with 1 Axes>"
      ]
     },
     "metadata": {},
     "output_type": "display_data"
    }
   ],
   "source": [
    "# Visualize the distribution of deaths using bar chart\n",
    "covid_deaths = covid.groupby('Country/Region')['Deaths'].sum()\n",
    "covid_deaths.plot(kind='bar')\n",
    "plt.title('deaths by country/region')\n",
    "plt.xlabel('Country/Region')\n",
    "plt.ylabel('number of deaths')\n",
    "plt.show()"
   ]
  },
  {
   "cell_type": "code",
   "execution_count": null,
   "id": "9c46773c",
   "metadata": {},
   "outputs": [],
   "source": []
  }
 ],
 "metadata": {
  "kernelspec": {
   "display_name": "Python 3 (ipykernel)",
   "language": "python",
   "name": "python3"
  },
  "language_info": {
   "codemirror_mode": {
    "name": "ipython",
    "version": 3
   },
   "file_extension": ".py",
   "mimetype": "text/x-python",
   "name": "python",
   "nbconvert_exporter": "python",
   "pygments_lexer": "ipython3",
   "version": "3.11.7"
  }
 },
 "nbformat": 4,
 "nbformat_minor": 5
}
